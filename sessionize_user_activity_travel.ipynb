{
 "cells": [
  {
   "cell_type": "code",
   "execution_count": 1,
   "metadata": {},
   "outputs": [
    {
     "name": "stderr",
     "output_type": "stream",
     "text": [
      "//miniconda3/lib/python3.7/site-packages/statsmodels/tools/_testing.py:19: FutureWarning: pandas.util.testing is deprecated. Use the functions in the public API at pandas.testing instead.\n",
      "  import pandas.util.testing as tm\n"
     ]
    }
   ],
   "source": [
    "%matplotlib inline\n",
    "import numpy as np\n",
    "import scipy\n",
    "import pandas\n",
    "import matplotlib.pyplot as plt\n",
    "#import statsmodels.formula.api as sm\n",
    "import seaborn as sns\n",
    "import sklearn as sl\n",
    "from sklearn import preprocessing\n",
    "import warnings\n",
    "warnings.filterwarnings('ignore')\n",
    "pandas.set_option('display.max_columns', 20)\n",
    "pandas.set_option('display.width', 350)"
   ]
  },
  {
   "cell_type": "code",
   "execution_count": 2,
   "metadata": {},
   "outputs": [],
   "source": [
    "import json\n",
    "import statistics\n",
    "import urllib\n",
    "import numpy as np\n",
    "import scipy\n",
    "import matplotlib.pyplot as plt\n",
    "import seaborn as sns"
   ]
  },
  {
   "cell_type": "markdown",
   "metadata": {},
   "source": [
    "# Import Data"
   ]
  },
  {
   "cell_type": "code",
   "execution_count": 19,
   "metadata": {},
   "outputs": [],
   "source": [
    "def parse_json(data):\n",
    "    \"\"\" function to parse json data \"\"\"\n",
    "    session_id = []\n",
    "    timestamp = []\n",
    "    cities = []\n",
    "    user_id = []\n",
    "    joining_date = []\n",
    "    country = []\n",
    "    \n",
    "    # parse each item\n",
    "    for item in data:\n",
    "        session_id.append(item['session_id'][0])\n",
    "        timestamp.append(item['unix_timestamp'][0])\n",
    "        cities.append(item['cities'][0])\n",
    "        user_id.append(item['user'][0][0]['user_id'])\n",
    "        joining_date.append(item['user'][0][0]['joining_date'])\n",
    "        country.append(item['user'][0][0]['country'])\n",
    "    \n",
    "    # create DataFrame\n",
    "    maps = {'session_id': session_id, 'timestamp': timestamp, 'cities': cities, \n",
    "            'user_id': user_id, 'joining_date': joining_date, 'country': country}\n",
    "    columns=['session_id', 'timestamp', 'cities', 'user_id', 'joining_date', 'country']\n",
    "    \n",
    "    return pandas.DataFrame(maps, columns=columns)"
   ]
  },
  {
   "cell_type": "code",
   "execution_count": 20,
   "metadata": {},
   "outputs": [],
   "source": [
    "with open('./dataset/city_searches.json', 'r') as f:\n",
    "    json_data = json.load(f)\n",
    "\n",
    "data = parse_json(json_data)\n",
    "data['joining_date'] = pandas.to_datetime(data['joining_date'])"
   ]
  },
  {
   "cell_type": "code",
   "execution_count": 21,
   "metadata": {},
   "outputs": [
    {
     "data": {
      "text/html": [
       "<div>\n",
       "<style scoped>\n",
       "    .dataframe tbody tr th:only-of-type {\n",
       "        vertical-align: middle;\n",
       "    }\n",
       "\n",
       "    .dataframe tbody tr th {\n",
       "        vertical-align: top;\n",
       "    }\n",
       "\n",
       "    .dataframe thead th {\n",
       "        text-align: right;\n",
       "    }\n",
       "</style>\n",
       "<table border=\"1\" class=\"dataframe\">\n",
       "  <thead>\n",
       "    <tr style=\"text-align: right;\">\n",
       "      <th></th>\n",
       "      <th>session_id</th>\n",
       "      <th>timestamp</th>\n",
       "      <th>cities</th>\n",
       "      <th>user_id</th>\n",
       "      <th>joining_date</th>\n",
       "      <th>country</th>\n",
       "    </tr>\n",
       "  </thead>\n",
       "  <tbody>\n",
       "    <tr>\n",
       "      <th>0</th>\n",
       "      <td>D258NVMV202LS</td>\n",
       "      <td>1442640552</td>\n",
       "      <td>San Jose CA, Montreal QC</td>\n",
       "      <td>5749</td>\n",
       "      <td>2015-04-02</td>\n",
       "      <td>FR</td>\n",
       "    </tr>\n",
       "    <tr>\n",
       "      <th>1</th>\n",
       "      <td>TDG10UKG7I4LR</td>\n",
       "      <td>1432110137</td>\n",
       "      <td>New York NY</td>\n",
       "      <td>10716</td>\n",
       "      <td>2015-03-30</td>\n",
       "      <td>DE</td>\n",
       "    </tr>\n",
       "    <tr>\n",
       "      <th>2</th>\n",
       "      <td>OH4ZDIGN9BLQS</td>\n",
       "      <td>1437049311</td>\n",
       "      <td>Montreal QC, Quebec QC</td>\n",
       "      <td>2941</td>\n",
       "      <td>2015-03-16</td>\n",
       "      <td></td>\n",
       "    </tr>\n",
       "    <tr>\n",
       "      <th>3</th>\n",
       "      <td>CWHIAYKQ7RA28</td>\n",
       "      <td>1432215908</td>\n",
       "      <td>Chicago IL</td>\n",
       "      <td>2164</td>\n",
       "      <td>2015-03-27</td>\n",
       "      <td>FR</td>\n",
       "    </tr>\n",
       "    <tr>\n",
       "      <th>4</th>\n",
       "      <td>GI8GZJAWAC80P</td>\n",
       "      <td>1443556226</td>\n",
       "      <td>Toronto ON, Houston TX</td>\n",
       "      <td>10493</td>\n",
       "      <td>2015-03-31</td>\n",
       "      <td>US</td>\n",
       "    </tr>\n",
       "  </tbody>\n",
       "</table>\n",
       "</div>"
      ],
      "text/plain": [
       "      session_id   timestamp                    cities  user_id joining_date country\n",
       "0  D258NVMV202LS  1442640552  San Jose CA, Montreal QC     5749   2015-04-02      FR\n",
       "1  TDG10UKG7I4LR  1432110137               New York NY    10716   2015-03-30      DE\n",
       "2  OH4ZDIGN9BLQS  1437049311    Montreal QC, Quebec QC     2941   2015-03-16        \n",
       "3  CWHIAYKQ7RA28  1432215908                Chicago IL     2164   2015-03-27      FR\n",
       "4  GI8GZJAWAC80P  1443556226    Toronto ON, Houston TX    10493   2015-03-31      US"
      ]
     },
     "execution_count": 21,
     "metadata": {},
     "output_type": "execute_result"
    }
   ],
   "source": [
    "data.head()"
   ]
  },
  {
   "cell_type": "code",
   "execution_count": 42,
   "metadata": {},
   "outputs": [
    {
     "data": {
      "text/plain": [
       "19383"
      ]
     },
     "execution_count": 42,
     "metadata": {},
     "output_type": "execute_result"
    }
   ],
   "source": [
    "data[data['country'] == ''].size"
   ]
  },
  {
   "cell_type": "code",
   "execution_count": 22,
   "metadata": {},
   "outputs": [
    {
     "data": {
      "text/plain": [
       "US    3772\n",
       "UK    3754\n",
       "DE    3741\n",
       "      2769\n",
       "FR    2341\n",
       "IT    1843\n",
       "ES    1802\n",
       "Name: country, dtype: int64"
      ]
     },
     "execution_count": 22,
     "metadata": {},
     "output_type": "execute_result"
    }
   ],
   "source": [
    "data['country'].value_counts()"
   ]
  },
  {
   "cell_type": "code",
   "execution_count": 23,
   "metadata": {},
   "outputs": [
    {
     "data": {
      "text/plain": [
       "<matplotlib.axes._subplots.AxesSubplot at 0x1a23ed6320>"
      ]
     },
     "execution_count": 23,
     "metadata": {},
     "output_type": "execute_result"
    },
    {
     "data": {
      "image/png": "[encoded data removed]",
      "text/plain": [
       "<Figure size 432x288 with 1 Axes>"
      ]
     },
     "metadata": {
      "needs_background": "light"
     },
     "output_type": "display_data"
    }
   ],
   "source": [
    "#Let's extract hour of the day from timestamp. This will be our x-axis in the distribution plot\n",
    "#make it a time\n",
    "data['timestamp']=pandas.to_datetime(data['timestamp'], unit='s')\n",
    "#extract hour\n",
    "data['hour']=data['timestamp'].apply(lambda x: x.hour)\n",
    "sns.countplot(x='hour', data=data)"
   ]
  },
  {
   "cell_type": "markdown",
   "metadata": {},
   "source": [
    "Overall, peak time is during 7AM-4PM UTC time: it looks like the high majority of the customer base is based in Europe. Let’s now check by country:"
   ]
  },
  {
   "cell_type": "code",
   "execution_count": 26,
   "metadata": {},
   "outputs": [
    {
     "data": {
      "text/plain": [
       "<seaborn.axisgrid.FacetGrid at 0x1a24239080>"
      ]
     },
     "execution_count": 26,
     "metadata": {},
     "output_type": "execute_result"
    },
    {
     "data": {
      "image/png": "[encoded data removed]",
      "text/plain": [
       "<Figure size 720x1512 with 7 Axes>"
      ]
     },
     "metadata": {
      "needs_background": "light"
     },
     "output_type": "display_data"
    }
   ],
   "source": [
    "g = sns.FacetGrid(data, row=\"country\", row_order=data.country.value_counts().index, margin_titles = True)\n",
    "g.fig.set_figwidth(10)\n",
    "g.map(sns.countplot,'hour', order = range(24))"
   ]
  },
  {
   "cell_type": "markdown",
   "metadata": {},
   "source": [
    "Western European countries like Germany, Spain, etc. are pretty consistent in having peak hours for traffic approximately between 8 and 15. Missing country seems to be shifted to the left (aka east) by 4 hours or so. It is most likely a country within the Middle East, Russia, or Pakistan."
   ]
  },
  {
   "cell_type": "markdown",
   "metadata": {},
   "source": [
    "# For each city, find the most likely city also searched for within the same session."
   ]
  },
  {
   "cell_type": "code",
   "execution_count": 27,
   "metadata": {},
   "outputs": [],
   "source": [
    "#Let's create a vector of all cities searched for in the same order as the original dataset\n",
    "cities = data['cities'].str.split(\", \")\n",
    "cities= np.hstack(cities)\n",
    "#Then, for each session_id let's get count of cities searched together\n",
    "count_per_session = data['cities'].apply(lambda x: len(x.split(',')))\n",
    "#Let's create a vector where each session is repeated as many times as count_per_session\n",
    "session_id = np.repeat(data['session_id'], count_per_session)\n",
    "#Put them into a data.frame"
   ]
  },
  {
   "cell_type": "code",
   "execution_count": 28,
   "metadata": {},
   "outputs": [],
   "source": [
    "data_similarity = pandas.DataFrame({'cities':cities, 'session_id':session_id})"
   ]
  },
  {
   "cell_type": "code",
   "execution_count": 29,
   "metadata": {},
   "outputs": [
    {
     "data": {
      "text/html": [
       "<div>\n",
       "<style scoped>\n",
       "    .dataframe tbody tr th:only-of-type {\n",
       "        vertical-align: middle;\n",
       "    }\n",
       "\n",
       "    .dataframe tbody tr th {\n",
       "        vertical-align: top;\n",
       "    }\n",
       "\n",
       "    .dataframe thead th {\n",
       "        text-align: right;\n",
       "    }\n",
       "</style>\n",
       "<table border=\"1\" class=\"dataframe\">\n",
       "  <thead>\n",
       "    <tr style=\"text-align: right;\">\n",
       "      <th></th>\n",
       "      <th>cities</th>\n",
       "      <th>session_id</th>\n",
       "    </tr>\n",
       "  </thead>\n",
       "  <tbody>\n",
       "    <tr>\n",
       "      <th>0</th>\n",
       "      <td>San Jose CA</td>\n",
       "      <td>D258NVMV202LS</td>\n",
       "    </tr>\n",
       "    <tr>\n",
       "      <th>0</th>\n",
       "      <td>Montreal QC</td>\n",
       "      <td>D258NVMV202LS</td>\n",
       "    </tr>\n",
       "    <tr>\n",
       "      <th>1</th>\n",
       "      <td>New York NY</td>\n",
       "      <td>TDG10UKG7I4LR</td>\n",
       "    </tr>\n",
       "    <tr>\n",
       "      <th>2</th>\n",
       "      <td>Montreal QC</td>\n",
       "      <td>OH4ZDIGN9BLQS</td>\n",
       "    </tr>\n",
       "    <tr>\n",
       "      <th>2</th>\n",
       "      <td>Quebec QC</td>\n",
       "      <td>OH4ZDIGN9BLQS</td>\n",
       "    </tr>\n",
       "  </tbody>\n",
       "</table>\n",
       "</div>"
      ],
      "text/plain": [
       "        cities     session_id\n",
       "0  San Jose CA  D258NVMV202LS\n",
       "0  Montreal QC  D258NVMV202LS\n",
       "1  New York NY  TDG10UKG7I4LR\n",
       "2  Montreal QC  OH4ZDIGN9BLQS\n",
       "2    Quebec QC  OH4ZDIGN9BLQS"
      ]
     },
     "execution_count": 29,
     "metadata": {},
     "output_type": "execute_result"
    }
   ],
   "source": [
    "data_similarity.head()"
   ]
  },
  {
   "cell_type": "code",
   "execution_count": 30,
   "metadata": {},
   "outputs": [],
   "source": [
    "#Now this is in long format. We need to make it wide, with each row a session, each column a possible city, and values 0/1 if that city was searched in that session\n",
    "data_similarity['binary_value'] = 1\n",
    "data_similarity = data_similarity.pivot(index='session_id', columns='cities').fillna(0)"
   ]
  },
  {
   "cell_type": "code",
   "execution_count": 31,
   "metadata": {},
   "outputs": [
    {
     "data": {
      "text/plain": [
       "(20022, 87)"
      ]
     },
     "execution_count": 31,
     "metadata": {},
     "output_type": "execute_result"
    }
   ],
   "source": [
    "data_similarity.shape"
   ]
  },
  {
   "cell_type": "code",
   "execution_count": 33,
   "metadata": {},
   "outputs": [
    {
     "data": {
      "text/html": [
       "<div>\n",
       "<style scoped>\n",
       "    .dataframe tbody tr th:only-of-type {\n",
       "        vertical-align: middle;\n",
       "    }\n",
       "\n",
       "    .dataframe tbody tr th {\n",
       "        vertical-align: top;\n",
       "    }\n",
       "\n",
       "    .dataframe thead tr th {\n",
       "        text-align: left;\n",
       "    }\n",
       "\n",
       "    .dataframe thead tr:last-of-type th {\n",
       "        text-align: right;\n",
       "    }\n",
       "</style>\n",
       "<table border=\"1\" class=\"dataframe\">\n",
       "  <thead>\n",
       "    <tr>\n",
       "      <th></th>\n",
       "      <th colspan=\"21\" halign=\"left\">binary_value</th>\n",
       "    </tr>\n",
       "    <tr>\n",
       "      <th>cities</th>\n",
       "      <th>Anaheim CA</th>\n",
       "      <th>Arlington TX</th>\n",
       "      <th>Atlanta GA</th>\n",
       "      <th>Austin TX</th>\n",
       "      <th>Bakersfield CA</th>\n",
       "      <th>Baltimore MD</th>\n",
       "      <th>Birmingham AL</th>\n",
       "      <th>Boston MA</th>\n",
       "      <th>Buffalo NY</th>\n",
       "      <th>Calgary AB</th>\n",
       "      <th>...</th>\n",
       "      <th>Toledo OH</th>\n",
       "      <th>Toronto ON</th>\n",
       "      <th>Tucson AZ</th>\n",
       "      <th>Tulsa OK</th>\n",
       "      <th>Vancouver BC</th>\n",
       "      <th>Victoria BC</th>\n",
       "      <th>Virginia Beach VA</th>\n",
       "      <th>WASHINGTON DC</th>\n",
       "      <th>Wichita KS</th>\n",
       "      <th>Windsor ON</th>\n",
       "    </tr>\n",
       "    <tr>\n",
       "      <th>session_id</th>\n",
       "      <th></th>\n",
       "      <th></th>\n",
       "      <th></th>\n",
       "      <th></th>\n",
       "      <th></th>\n",
       "      <th></th>\n",
       "      <th></th>\n",
       "      <th></th>\n",
       "      <th></th>\n",
       "      <th></th>\n",
       "      <th></th>\n",
       "      <th></th>\n",
       "      <th></th>\n",
       "      <th></th>\n",
       "      <th></th>\n",
       "      <th></th>\n",
       "      <th></th>\n",
       "      <th></th>\n",
       "      <th></th>\n",
       "      <th></th>\n",
       "      <th></th>\n",
       "    </tr>\n",
       "  </thead>\n",
       "  <tbody>\n",
       "    <tr>\n",
       "      <th>005DKBSO9FEZL</th>\n",
       "      <td>0.0</td>\n",
       "      <td>0.0</td>\n",
       "      <td>0.0</td>\n",
       "      <td>0.0</td>\n",
       "      <td>0.0</td>\n",
       "      <td>1.0</td>\n",
       "      <td>0.0</td>\n",
       "      <td>0.0</td>\n",
       "      <td>0.0</td>\n",
       "      <td>0.0</td>\n",
       "      <td>...</td>\n",
       "      <td>0.0</td>\n",
       "      <td>0.0</td>\n",
       "      <td>0.0</td>\n",
       "      <td>0.0</td>\n",
       "      <td>0.0</td>\n",
       "      <td>0.0</td>\n",
       "      <td>0.0</td>\n",
       "      <td>0.0</td>\n",
       "      <td>0.0</td>\n",
       "      <td>0.0</td>\n",
       "    </tr>\n",
       "  </tbody>\n",
       "</table>\n",
       "<p>1 rows × 87 columns</p>\n",
       "</div>"
      ],
      "text/plain": [
       "              binary_value                                                                                                              ...                                                                                                                       \n",
       "cities          Anaheim CA Arlington TX Atlanta GA Austin TX Bakersfield CA Baltimore MD Birmingham AL Boston MA Buffalo NY Calgary AB  ... Toledo OH Toronto ON Tucson AZ Tulsa OK Vancouver BC Victoria BC Virginia Beach VA WASHINGTON DC Wichita KS Windsor ON\n",
       "session_id                                                                                                                              ...                                                                                                                       \n",
       "005DKBSO9FEZL          0.0          0.0        0.0       0.0            0.0          1.0           0.0       0.0        0.0        0.0  ...       0.0        0.0       0.0      0.0          0.0         0.0               0.0           0.0        0.0        0.0\n",
       "\n",
       "[1 rows x 87 columns]"
      ]
     },
     "execution_count": 33,
     "metadata": {},
     "output_type": "execute_result"
    }
   ],
   "source": [
    "data_similarity.head(1)"
   ]
  },
  {
   "cell_type": "code",
   "execution_count": 35,
   "metadata": {},
   "outputs": [
    {
     "name": "stdout",
     "output_type": "stream",
     "text": [
      "                          most_similar_city\n",
      "cities                                     \n",
      "Anaheim CA                     Santa Ana CA\n",
      "Arlington TX                  Fort Worth TX\n",
      "Atlanta GA                    Birmingham AL\n",
      "Austin TX                    San Antonio TX\n",
      "Bakersfield CA                    Fresno CA\n",
      "Baltimore MD                  WASHINGTON DC\n",
      "Birmingham AL                    Atlanta GA\n",
      "Boston MA                    Jersey City NJ\n",
      "Buffalo NY      Saint Catharines-Niagara ON\n",
      "Calgary AB                      Edmonton AB\n"
     ]
    }
   ],
   "source": [
    "from sklearn import metrics\n",
    " \n",
    "#As similarity function, let's take the cosine similarity\n",
    "city_cosine = pandas.DataFrame(metrics.pairwise.cosine_similarity(data_similarity.T))\n",
    "#add index and column names \n",
    "city_cosine.columns = data_similarity.columns.get_level_values(1)\n",
    "city_cosine.index = city_cosine.columns\n",
    "  \n",
    "#Let's now find for each row/city, the column with the highest value (after excluding that city itself)\n",
    "closest_city = pandas.DataFrame({\"most_similar_city\":[None]*len(city_cosine)})\n",
    "#Let's have cities as index\n",
    "closest_city.index = city_cosine.index\n",
    "  \n",
    "#For each row, we pick the highest score\n",
    "i = 0\n",
    "while i < len(closest_city):\n",
    "      #for each city, this gives a list of cosine similarity with the other cities\n",
    "      tmp_cosine = city_cosine.drop(city_cosine.columns[i], axis=1).iloc[i]\n",
    "      #and now we pick the city with the max\n",
    "      closest_city.most_similar_city.iloc[i] = tmp_cosine.idxmax()\n",
    "      i += 1\n",
    "  \n",
    "#They tend to make sense\n",
    "print(closest_city.head(10))"
   ]
  },
  {
   "cell_type": "markdown",
   "metadata": {},
   "source": [
    "# Users planning a trip often search for cities close to each other, while users who search for cities far away from each other are often just dreaming about a vacation.Come up with an algorithm that clusters sessions into two groups: high intent and low intent. Explain all assumptions you make along the way"
   ]
  },
  {
   "cell_type": "markdown",
   "metadata": {},
   "source": [
    "There are a couple of ways to define distance.\n",
    "One option is to simply use actual geographical distance. We can use some map API to convert cities into lat and long and then estimate actual distance between them.\n",
    "Another option is to use cosine similarity from above as a proxy for distance. The assumption here is that cities that are geographically close to each other are also more likely to be searched together because they are part of the same trip. Therefore they will have higher cosine similarity.\n",
    "Another way to say this is: let’s say someone searches for San Francisco. If they are actually planning for a vacation, they will most likely also search for, say, Los Angeles. On the other hand, if they are just dreaming about a vacation, they will search for some other random cities (NY, Rome, Paris, etc.). But dreamer co-searches will be very diverse, i.e. one will search for SF and NY, one for SF and Rome, etc. On the other hand, most of trip planners will search for exactly LA and SF. Therefore, LA should have way higher cosine similarity with SF than those other cities.\n",
    "\n",
    "\n",
    "We will use option 2 here. The step by step approach will be:\n",
    "Remove searches with just one city. We don’t have enough info now to assign them to either low or high intent\n",
    "For each of the remaining searches, we will estimate the average distance between all pairwise combinations. We use the average instead of some percentile-based metric because we want our metric to be affected by outliers. If, in a given search, there is at least one city that’s far away from the others, we want that to be a strong indicator of not being an actual trip\n",
    "We will plot all the scores from point 2 and then choose a threshold to separate trip planners from dreamers\n"
   ]
  },
  {
   "cell_type": "code",
   "execution_count": 36,
   "metadata": {},
   "outputs": [],
   "source": [
    "import itertools\n",
    " \n",
    "#Only keep sessions with more than one search\n",
    "data_intent = data['cities'][count_per_session>1].reset_index(drop=True)\n",
    " \n",
    "score = []\n",
    "i = 0\n",
    "#loop through all the rows\n",
    "while i < len(data_intent):\n",
    "  #extract cities\n",
    "  cities_intent  = data_intent[i].split(\", \")\n",
    "  #get all pairwise combinations\n",
    "  cities_combinations = list(itertools.combinations(cities_intent, 2))\n",
    "  #Take the mean of cosine similarity between those pairs\n",
    "  pairwise_distance = []\n",
    "  for j in range(len(cities_combinations)):\n",
    "        pairwise_distance.append(city_cosine.loc[cities_combinations[j][0], cities_combinations[j][1]])\n",
    "  score.append(statistics.mean(pairwise_distance))\n",
    "  i += 1\n"
   ]
  },
  {
   "cell_type": "code",
   "execution_count": 37,
   "metadata": {},
   "outputs": [
    {
     "data": {
      "text/plain": [
       "<matplotlib.axes._subplots.AxesSubplot at 0x1a27c6db00>"
      ]
     },
     "execution_count": 37,
     "metadata": {},
     "output_type": "execute_result"
    },
    {
     "data": {
      "image/png": "[encoded data removed]",
      "text/plain": [
       "<Figure size 432x288 with 1 Axes>"
      ]
     },
     "metadata": {
      "needs_background": "light"
     },
     "output_type": "display_data"
    }
   ],
   "source": [
    "#Let's plot score distribution\n",
    "sns.distplot(score)"
   ]
  },
  {
   "cell_type": "markdown",
   "metadata": {},
   "source": [
    "We can see some sort of discontinuity around 0.1. Let’s take that as a threshold."
   ]
  },
  {
   "cell_type": "code",
   "execution_count": 38,
   "metadata": {},
   "outputs": [
    {
     "name": "stdout",
     "output_type": "stream",
     "text": [
      "0.1 represents the 43.8th percentile\n"
     ]
    }
   ],
   "source": [
    "print(\"0.1 represents the \", round(scipy.stats.percentileofscore(score, 0.1), 1), \"th \", \"percentile\", sep=\"\")"
   ]
  },
  {
   "cell_type": "markdown",
   "metadata": {},
   "source": [
    "That is, among people searching at least 2 cities, ~56% are actually planning a trip and ~44% don’t have high intent to book. A pretty common next step at this point could be designing different site experiences for the two groups."
   ]
  },
  {
   "cell_type": "code",
   "execution_count": null,
   "metadata": {},
   "outputs": [],
   "source": []
  }
 ],
 "metadata": {
  "kernelspec": {
   "display_name": "Python 3",
   "language": "python",
   "name": "python3"
  },
  "language_info": {
   "codemirror_mode": {
    "name": "ipython",
    "version": 3
   },
   "file_extension": ".py",
   "mimetype": "text/x-python",
   "name": "python",
   "nbconvert_exporter": "python",
   "pygments_lexer": "ipython3",
   "version": "3.7.3"
  }
 },
 "nbformat": 4,
 "nbformat_minor": 2
}
